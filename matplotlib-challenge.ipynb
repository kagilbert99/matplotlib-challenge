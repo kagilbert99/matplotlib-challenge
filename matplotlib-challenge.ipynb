{
 "cells": [
  {
   "cell_type": "code",
   "execution_count": null,
   "id": "1dab0055-8aa1-472f-a216-1d9fa9f40d7c",
   "metadata": {},
   "outputs": [],
   "source": [
    "# Pymaceuticals Inc.\n",
    "---\n",
    "\n",
    "### Analysis\n",
    "\n",
    "- Add your analysis here.\n",
    " "
   ]
  },
  {
   "cell_type": "code",
   "execution_count": null,
   "id": "6efc7aea-46b2-4e73-8d56-32fb5d729396",
   "metadata": {},
   "outputs": [],
   "source": [
    "# Dependencies and Setup\n",
    "import matplotlib.pyplot as plt\n",
    "import pandas as pd\n",
    "import scipy.stats as st\n",
    "\n",
    "# Study data files\n",
    "mouse_metadata_path = \"data/Mouse_metadata.csv\"\n",
    "study_results_path = \"data/Study_results.csv\"\n",
    "\n",
    "# Read the mouse data and the study results\n",
    "mouse_metadata = pd.read_csv(mouse_metadata_path)\n",
    "study_results = pd.read_csv(study_results_path)\n",
    "\n",
    "# Combine the data into a single DataFrame\n",
    "inner_merge = pd.merge(mouse_metadata, study_results, on=[\"Mouse ID\"])\n",
    "\n",
    "# Display the data table for preview\n",
    "inner_merge.head()"
   ]
  },
  {
   "cell_type": "code",
   "execution_count": null,
   "id": "578a2065-435e-404d-abab-0eba319ac1cf",
   "metadata": {},
   "outputs": [],
   "source": [
    "# Checking the number of mice.\n",
    "df = inner_merge\n",
    "pd.value_counts(df['Mouse ID'])"
   ]
  },
  {
   "cell_type": "code",
   "execution_count": null,
   "id": "b872a399-63bf-44d9-8c17-54f7c0fd5386",
   "metadata": {},
   "outputs": [],
   "source": [
    "# Our data should be uniquely identified by Mouse ID and Timepoint\n",
    "# Get the duplicate mice by ID number that shows up for Mouse ID and Timepoint. \n",
    "duplicate = inner_merge[inner_merge.duplicated('Mouse ID')]\n",
    "print(duplicate)"
   ]
  },
  {
   "cell_type": "code",
   "execution_count": null,
   "id": "aaa9d6ce-26d8-4817-809d-92b4fdf158f2",
   "metadata": {},
   "outputs": [],
   "source": [
    "duplicate.info()"
   ]
  }
 ],
 "metadata": {
  "kernelspec": {
   "display_name": "Python 3 (ipykernel)",
   "language": "python",
   "name": "python3"
  },
  "language_info": {
   "codemirror_mode": {
    "name": "ipython",
    "version": 3
   },
   "file_extension": ".py",
   "mimetype": "text/x-python",
   "name": "python",
   "nbconvert_exporter": "python",
   "pygments_lexer": "ipython3",
   "version": "3.11.5"
  }
 },
 "nbformat": 4,
 "nbformat_minor": 5
}
